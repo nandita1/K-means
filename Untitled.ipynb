{
 "cells": [
  {
   "cell_type": "code",
   "execution_count": 22,
   "metadata": {},
   "outputs": [],
   "source": [
    "import numpy as np\n",
    "import pandas as pd\n",
    "import math\n",
    "import random"
   ]
  },
  {
   "cell_type": "code",
   "execution_count": 23,
   "metadata": {},
   "outputs": [],
   "source": [
    "def ReadFile(file):\n",
    "    f=open(file,\"r\")\n",
    "    lines=f.read().splitlines()\n",
    "    f.close()\n",
    "\n",
    "    items=[]\n",
    "    for i in range(len(lines)):\n",
    "        line=lines[i].split(',')\n",
    "        feature=[]\n",
    "        for j in line:\n",
    "            feature.append(float(j))\n",
    "\n",
    "        items.append(feature)\n",
    "    print(items)\n",
    "    return items"
   ]
  },
  {
   "cell_type": "code",
   "execution_count": 24,
   "metadata": {},
   "outputs": [],
   "source": [
    "def EuclideanDistance(obj1,obj2):\n",
    "    sum=0\n",
    "    for i in range(len(obj1)):\n",
    "        sum+=math.pow(obj1[i]-obj2[i],2)   \n",
    "    return math.sqrt(sum)"
   ]
  },
  {
   "cell_type": "code",
   "execution_count": 25,
   "metadata": {},
   "outputs": [],
   "source": [
    "def Distances(items,means):\n",
    "    k=len(means)\n",
    "    distances=[]\n",
    "    for i in range(k):\n",
    "        distance=[]\n",
    "        for item in items:\n",
    "            dist=EuclideanDistance(item,means[i])\n",
    "            distance.append(dist)\n",
    "        distances.append(distance)\n",
    "    return distances"
   ]
  },
  {
   "cell_type": "code",
   "execution_count": 26,
   "metadata": {},
   "outputs": [],
   "source": [
    "def InitializeMeans(items, k):    \n",
    "    no_f = len(items[0]); \n",
    "    means =[]\n",
    "    while(len(means)!=k):\n",
    "        mean=list(random.choice(items))\n",
    "        if mean not in means:\n",
    "            means.append(mean)\n",
    "    return means"
   ]
  },
  {
   "cell_type": "code",
   "execution_count": 27,
   "metadata": {},
   "outputs": [],
   "source": [
    "def CalculateMean(items,clusters,i,j):\n",
    "    sum=0.0\n",
    "    count=0\n",
    "    z=len(items)\n",
    "    for k in range(z):\n",
    "        if(clusters[k]==j+1):\n",
    "            sum+=items[k][i]\n",
    "            count+=1\n",
    "    if(count!=0):\n",
    "        return(sum/float(count))\n",
    "    else:\n",
    "        return -1"
   ]
  },
  {
   "cell_type": "code",
   "execution_count": 28,
   "metadata": {},
   "outputs": [],
   "source": [
    "def UpdateMean(items,clusters,means):\n",
    "    a=len(means)\n",
    "    b=len(means[0])\n",
    "    for j in range(a):\n",
    "        for i in range(b):\n",
    "            num=CalculateMean(items,clusters,i,j)\n",
    "            if(num!=-1):\n",
    "                means[j][i]=num\n",
    "    return means"
   ]
  },
  {
   "cell_type": "code",
   "execution_count": 29,
   "metadata": {},
   "outputs": [],
   "source": [
    "def ClusterAssigning(clusters,distances):\n",
    "    for j in range(len(clusters)):\n",
    "        min=math.inf\n",
    "        for i in range(len(distances)):\n",
    "            if min>distances[i][j]:\n",
    "                min=distances[i][j]\n",
    "                clusters[j]=i+1\n",
    "    return clusters"
   ]
  },
  {
   "cell_type": "code",
   "execution_count": 32,
   "metadata": {},
   "outputs": [],
   "source": [
    "def KMeans(file,no_clus,num_of_iterations):\n",
    "    items=ReadFile(file)\n",
    "    clusters=[0 for i in range(len(items))]\n",
    "    means=InitializeMeans(items,no_clus)\n",
    "    while(num_of_iterations):\n",
    "        distances=Distances(items,means)\n",
    "        clusters=ClusterAssigning(clusters,distances)\n",
    "        #print(\"---------------Means---------------------------\")\n",
    "        #print(means)\n",
    "        means=UpdateMean(items,clusters,means)\n",
    "        #print(\"---------------Clusters---------------------------\")\n",
    "        #print(clusters)\n",
    "        #print()\n",
    "        num_of_iterations-=1\n",
    "    print('Points\\t\\tCluster')\n",
    "    print('----------------------')\n",
    "    for i in range(len(items)):\n",
    "        print(items[i],'\\t',clusters[i])"
   ]
  },
  {
   "cell_type": "code",
   "execution_count": 33,
   "metadata": {},
   "outputs": [
    {
     "name": "stdout",
     "output_type": "stream",
     "text": [
      "[[12.0, 39.0], [20.0, 36.0], [28.0, 30.0], [18.0, 52.0], [29.0, 54.0], [33.0, 46.0], [24.0, 55.0], [45.0, 59.0], [45.0, 63.0], [52.0, 70.0], [51.0, 66.0], [52.0, 63.0], [55.0, 58.0], [53.0, 23.0], [55.0, 14.0], [61.0, 8.0], [64.0, 19.0], [69.0, 7.0], [72.0, 24.0]]\n",
      "Points\t\tCluster\n",
      "----------------------\n",
      "[12.0, 39.0] \t 1\n",
      "[20.0, 36.0] \t 1\n",
      "[28.0, 30.0] \t 1\n",
      "[18.0, 52.0] \t 1\n",
      "[29.0, 54.0] \t 1\n",
      "[33.0, 46.0] \t 1\n",
      "[24.0, 55.0] \t 1\n",
      "[45.0, 59.0] \t 2\n",
      "[45.0, 63.0] \t 2\n",
      "[52.0, 70.0] \t 2\n",
      "[51.0, 66.0] \t 2\n",
      "[52.0, 63.0] \t 2\n",
      "[55.0, 58.0] \t 2\n",
      "[53.0, 23.0] \t 3\n",
      "[55.0, 14.0] \t 3\n",
      "[61.0, 8.0] \t 3\n",
      "[64.0, 19.0] \t 3\n",
      "[69.0, 7.0] \t 3\n",
      "[72.0, 24.0] \t 3\n"
     ]
    }
   ],
   "source": [
    "KMeans('xy.csv',3,10)"
   ]
  },
  {
   "cell_type": "code",
   "execution_count": null,
   "metadata": {},
   "outputs": [],
   "source": []
  },
  {
   "cell_type": "code",
   "execution_count": null,
   "metadata": {},
   "outputs": [],
   "source": []
  }
 ],
 "metadata": {
  "kernelspec": {
   "display_name": "Python 3",
   "language": "python",
   "name": "python3"
  },
  "language_info": {
   "codemirror_mode": {
    "name": "ipython",
    "version": 3
   },
   "file_extension": ".py",
   "mimetype": "text/x-python",
   "name": "python",
   "nbconvert_exporter": "python",
   "pygments_lexer": "ipython3",
   "version": "3.6.5"
  }
 },
 "nbformat": 4,
 "nbformat_minor": 2
}
